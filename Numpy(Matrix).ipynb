{
 "cells": [
  {
   "cell_type": "code",
   "execution_count": 1,
   "id": "2573414a",
   "metadata": {},
   "outputs": [],
   "source": [
    "import numpy as np"
   ]
  },
  {
   "cell_type": "markdown",
   "id": "7a27af18",
   "metadata": {},
   "source": [
    "# Problem 1"
   ]
  },
  {
   "cell_type": "code",
   "execution_count": 2,
   "id": "8ece66c4",
   "metadata": {},
   "outputs": [],
   "source": [
    "# Define matrix A\n",
    "A = np.matrix([[3, 5, 9], [3, 3, 4], [5, 9, 17]])"
   ]
  },
  {
   "cell_type": "code",
   "execution_count": 3,
   "id": "4bca2fda",
   "metadata": {},
   "outputs": [],
   "source": [
    "# Define matrix B\n",
    "B = np.matrix([[2], [1], [4]])"
   ]
  },
  {
   "cell_type": "code",
   "execution_count": 4,
   "id": "a2073711",
   "metadata": {},
   "outputs": [],
   "source": [
    "# Solve the matrix equation Ax = B\n",
    "x = np.linalg.solve(A, B)"
   ]
  },
  {
   "cell_type": "code",
   "execution_count": 5,
   "id": "9480c9de",
   "metadata": {},
   "outputs": [
    {
     "name": "stdout",
     "output_type": "stream",
     "text": [
      "Matrix A:\n",
      " [[ 3  5  9]\n",
      " [ 3  3  4]\n",
      " [ 5  9 17]]\n",
      "Matrix B:\n",
      " [[2]\n",
      " [1]\n",
      " [4]]\n",
      "Solution for x:\n",
      " [[ 1.]\n",
      " [-2.]\n",
      " [ 1.]]\n"
     ]
    }
   ],
   "source": [
    "print(\"Matrix A:\\n\", A)\n",
    "print(\"Matrix B:\\n\", B)\n",
    "print(\"Solution for x:\\n\", x)"
   ]
  },
  {
   "cell_type": "markdown",
   "id": "cc8054a4",
   "metadata": {},
   "source": [
    "# Problem 2"
   ]
  },
  {
   "cell_type": "code",
   "execution_count": null,
   "id": "ddd21257",
   "metadata": {},
   "outputs": [],
   "source": [
    "#We can add the two arrays using the \"+\" operator in NumPy and then calculate the square of each element using the \"**\" operator."
   ]
  },
  {
   "cell_type": "code",
   "execution_count": 6,
   "id": "d6c590ed",
   "metadata": {},
   "outputs": [],
   "source": [
    "# Define arrayOne\n",
    "arrayOne = np.array([[5, 6, 9], [21, 18, 27]])\n",
    "\n",
    "# Define arrayTwo\n",
    "arrayTwo = np.array([[15, 33, 24], [4, 7, 1]])"
   ]
  },
  {
   "cell_type": "code",
   "execution_count": 7,
   "id": "51f0cf66",
   "metadata": {},
   "outputs": [],
   "source": [
    "# Add the two arrays\n",
    "resultArray = arrayOne + arrayTwo"
   ]
  },
  {
   "cell_type": "code",
   "execution_count": 8,
   "id": "2b08c715",
   "metadata": {},
   "outputs": [],
   "source": [
    "# Square each element in the result array\n",
    "resultArray = resultArray ** 2"
   ]
  },
  {
   "cell_type": "code",
   "execution_count": 9,
   "id": "5a3f3303",
   "metadata": {},
   "outputs": [
    {
     "name": "stdout",
     "output_type": "stream",
     "text": [
      "Array One:\n",
      " [[ 5  6  9]\n",
      " [21 18 27]]\n",
      "Array Two:\n",
      " [[15 33 24]\n",
      " [ 4  7  1]]\n",
      "Result Array:\n",
      " [[ 400 1521 1089]\n",
      " [ 625  625  784]]\n"
     ]
    }
   ],
   "source": [
    "print(\"Array One:\\n\", arrayOne)\n",
    "print(\"Array Two:\\n\", arrayTwo)\n",
    "print(\"Result Array:\\n\", resultArray)"
   ]
  },
  {
   "cell_type": "markdown",
   "id": "e15941d3",
   "metadata": {},
   "source": [
    "# Problem 3"
   ]
  },
  {
   "cell_type": "code",
   "execution_count": 10,
   "id": "8b2cd473",
   "metadata": {},
   "outputs": [],
   "source": [
    "# Define the 2-D array\n",
    "sampleArray = np.array([[34, 43, 73], [82, 22, 12], [53, 94, 66]])"
   ]
  },
  {
   "cell_type": "code",
   "execution_count": 11,
   "id": "8d213b15",
   "metadata": {},
   "outputs": [],
   "source": [
    "# Find the maximum along axis 0\n",
    "maxAxis0 = np.amax(sampleArray, axis=0)"
   ]
  },
  {
   "cell_type": "code",
   "execution_count": 12,
   "id": "2a1024e0",
   "metadata": {},
   "outputs": [],
   "source": [
    "# Find the minimum along axis 1\n",
    "minAxis1 = np.amin(sampleArray, axis=1)"
   ]
  },
  {
   "cell_type": "code",
   "execution_count": 13,
   "id": "e9f25639",
   "metadata": {},
   "outputs": [
    {
     "name": "stdout",
     "output_type": "stream",
     "text": [
      "Sample Array:\n",
      " [[34 43 73]\n",
      " [82 22 12]\n",
      " [53 94 66]]\n",
      "Maximum along axis 0:\n",
      " [82 94 73]\n",
      "Minimum along axis 1:\n",
      " [34 12 53]\n"
     ]
    }
   ],
   "source": [
    "print(\"Sample Array:\\n\", sampleArray)\n",
    "print(\"Maximum along axis 0:\\n\", maxAxis0)\n",
    "print(\"Minimum along axis 1:\\n\", minAxis1)"
   ]
  },
  {
   "cell_type": "markdown",
   "id": "e03b03c0",
   "metadata": {},
   "source": [
    "# Problem 4"
   ]
  },
  {
   "cell_type": "code",
   "execution_count": 14,
   "id": "634629d4",
   "metadata": {},
   "outputs": [],
   "source": [
    "# Define the input arrays\n",
    "a = np.array([1, 2, 3, 2, 3, 4, 3, 4, 5, 6])\n",
    "b = np.array([7, 2, 10, 2, 7, 4, 9, 4, 9, 8])"
   ]
  },
  {
   "cell_type": "code",
   "execution_count": 15,
   "id": "b196f017",
   "metadata": {},
   "outputs": [],
   "source": [
    "# Find the positions where elements of a and b match\n",
    "matchPositions = np.where(a == b)[0]"
   ]
  },
  {
   "cell_type": "code",
   "execution_count": 16,
   "id": "671478de",
   "metadata": {},
   "outputs": [
    {
     "name": "stdout",
     "output_type": "stream",
     "text": [
      "a:\n",
      " [1 2 3 2 3 4 3 4 5 6]\n",
      "b:\n",
      " [ 7  2 10  2  7  4  9  4  9  8]\n",
      "Match Positions:\n",
      " [1 3 5 7]\n"
     ]
    }
   ],
   "source": [
    "print(\"a:\\n\", a)\n",
    "print(\"b:\\n\", b)\n",
    "print(\"Match Positions:\\n\", matchPositions)"
   ]
  },
  {
   "cell_type": "markdown",
   "id": "ab96c854",
   "metadata": {},
   "source": [
    "# Problem 5"
   ]
  },
  {
   "cell_type": "code",
   "execution_count": 17,
   "id": "842ab2ad",
   "metadata": {},
   "outputs": [],
   "source": [
    "# Define the matrices\n",
    "a = np.array([[1, 2], [3, 4]])\n",
    "b = np.array([[5, 6], [7, 8]])"
   ]
  },
  {
   "cell_type": "code",
   "execution_count": 19,
   "id": "20bc07f9",
   "metadata": {},
   "outputs": [],
   "source": [
    "# Vertically stack the matrices\n",
    "c = np.vstack((a, b))"
   ]
  },
  {
   "cell_type": "code",
   "execution_count": 20,
   "id": "3e34dd99",
   "metadata": {},
   "outputs": [
    {
     "name": "stdout",
     "output_type": "stream",
     "text": [
      "Matrix a:\n",
      " [[1 2]\n",
      " [3 4]]\n",
      "Matrix b:\n",
      " [[5 6]\n",
      " [7 8]]\n",
      "Matrix c:\n",
      " [[1 2]\n",
      " [3 4]\n",
      " [5 6]\n",
      " [7 8]]\n"
     ]
    }
   ],
   "source": [
    "print(\"Matrix a:\\n\", a)\n",
    "print(\"Matrix b:\\n\", b)\n",
    "print(\"Matrix c:\\n\", c)"
   ]
  },
  {
   "cell_type": "code",
   "execution_count": 21,
   "id": "8bcf1c65",
   "metadata": {},
   "outputs": [],
   "source": [
    "# Define the matrices\n",
    "a = np.array([[1, 2], [3, 4]])\n",
    "b = np.array([[5, 6], [7, 8]])\n"
   ]
  },
  {
   "cell_type": "code",
   "execution_count": 22,
   "id": "36782c5b",
   "metadata": {},
   "outputs": [],
   "source": [
    "# Horizontally stack the matrices\n",
    "d = np.hstack((a, b))"
   ]
  },
  {
   "cell_type": "code",
   "execution_count": 23,
   "id": "d03410bb",
   "metadata": {},
   "outputs": [
    {
     "name": "stdout",
     "output_type": "stream",
     "text": [
      "Matrix a:\n",
      " [[1 2]\n",
      " [3 4]]\n",
      "Matrix b:\n",
      " [[5 6]\n",
      " [7 8]]\n",
      "Matrix d:\n",
      " [[1 2 5 6]\n",
      " [3 4 7 8]]\n"
     ]
    }
   ],
   "source": [
    "print(\"Matrix a:\\n\", a)\n",
    "print(\"Matrix b:\\n\", b)\n",
    "print(\"Matrix d:\\n\", d)\n"
   ]
  },
  {
   "cell_type": "code",
   "execution_count": null,
   "id": "42546842",
   "metadata": {},
   "outputs": [],
   "source": []
  }
 ],
 "metadata": {
  "kernelspec": {
   "display_name": "Python 3 (ipykernel)",
   "language": "python",
   "name": "python3"
  },
  "language_info": {
   "codemirror_mode": {
    "name": "ipython",
    "version": 3
   },
   "file_extension": ".py",
   "mimetype": "text/x-python",
   "name": "python",
   "nbconvert_exporter": "python",
   "pygments_lexer": "ipython3",
   "version": "3.9.13"
  }
 },
 "nbformat": 4,
 "nbformat_minor": 5
}
